{
  "cells": [
    {
      "cell_type": "code",
      "execution_count": null,
      "metadata": {
        "colab": {
          "base_uri": "https://localhost:8080/"
        },
        "id": "OQXWX47kccRP",
        "outputId": "51ce2a8f-a0e4-4382-b22b-7fd13ebb6e3c"
      },
      "outputs": [
        {
          "output_type": "stream",
          "name": "stdout",
          "text": [
            "Num GPUs Available:  0\n"
          ]
        }
      ],
      "source": [
        "import os\n",
        "import numpy as np\n",
        "import tensorflow as tf\n",
        "from tensorflow import keras\n",
        "import pandas as pd\n",
        "import cv2\n",
        "import PIL\n",
        "import PIL.Image\n",
        "import matplotlib.pyplot as plt\n",
        "\n",
        "\n",
        "print(\"Num GPUs Available: \", len(tf.config.list_physical_devices('GPU')))"
      ]
    },
    {
      "cell_type": "code",
      "execution_count": null,
      "metadata": {
        "colab": {
          "base_uri": "https://localhost:8080/"
        },
        "id": "urMGFUSqcil1",
        "outputId": "ca27d2a2-6504-40b8-9e9a-d3f6bf641ae4"
      },
      "outputs": [
        {
          "output_type": "stream",
          "name": "stdout",
          "text": [
            "Drive already mounted at /content/drive; to attempt to forcibly remount, call drive.mount(\"/content/drive\", force_remount=True).\n"
          ]
        }
      ],
      "source": [
        "from google.colab import drive\n",
        "drive.mount('/content/drive')"
      ]
    },
    {
      "cell_type": "code",
      "execution_count": null,
      "metadata": {
        "id": "ifYRM_hTckSc"
      },
      "outputs": [],
      "source": [
        "#TODO: This dataset is actually RAF-DB insteal of AffectNet!!!\n",
        "train_path = '/content/drive/My Drive/CS6476/RAFDB/DATASET/train'\n",
        "val_path = '/content/drive/My Drive/CS6476/RAFDB/DATASET/val'\n",
        "test_path = '/content/drive/My Drive/CS6476/RAFDB/DATASET/test'"
      ]
    },
    {
      "cell_type": "code",
      "execution_count": null,
      "metadata": {
        "colab": {
          "base_uri": "https://localhost:8080/"
        },
        "id": "uGWVUa9Pckx1",
        "outputId": "3ce44cdb-f120-4a8f-9246-fd9e849bf5ec"
      },
      "outputs": [
        {
          "output_type": "stream",
          "name": "stdout",
          "text": [
            "Found 9814 images belonging to 7 classes.\n",
            "Found 2457 images belonging to 7 classes.\n",
            "Found 3068 images belonging to 7 classes.\n"
          ]
        }
      ],
      "source": [
        "# preprocess training data using ImageDataGenerator\n",
        "# note: we can use mobilenet.preprocess_input because the start of patt-lite is a truncated mobilenet!\n",
        "train_data = keras.preprocessing.image.ImageDataGenerator(\n",
        "    preprocessing_function=keras.applications.mobilenet.preprocess_input).flow_from_directory(\n",
        "    train_path,\n",
        "    target_size=(224, 224),\n",
        "    batch_size=64,\n",
        "    color_mode='rgb',\n",
        "    class_mode='categorical'\n",
        "    )\n",
        "\n",
        "val_data = keras.preprocessing.image.ImageDataGenerator(\n",
        "    preprocessing_function=keras.applications.mobilenet.preprocess_input).flow_from_directory(\n",
        "    val_path,\n",
        "    target_size=(224, 224),\n",
        "    batch_size=64,color_mode='rgb',class_mode='categorical')\n",
        "\n",
        "test_data = keras.preprocessing.image.ImageDataGenerator(\n",
        "    preprocessing_function=keras.applications.mobilenet.preprocess_input).flow_from_directory(\n",
        "    test_path,\n",
        "    target_size=(224, 224),\n",
        "    batch_size=64,color_mode='rgb',class_mode='categorical',\n",
        "    shuffle=False\n",
        ")"
      ]
    },
    {
      "cell_type": "code",
      "execution_count": null,
      "metadata": {
        "id": "YfRYULEMcnWR"
      },
      "outputs": [],
      "source": [
        "# load patt-lite model\n",
        "model = keras.models.load_model('/content/drive/My Drive/CS6476/patt-lite.h5')"
      ]
    },
    {
      "cell_type": "code",
      "execution_count": null,
      "metadata": {
        "id": "iNE3ssokdOqq"
      },
      "outputs": [],
      "source": [
        "# unfreeze all parameters\n",
        "model.trainable = True"
      ]
    },
    {
      "cell_type": "code",
      "source": [
        "# learning rate scheduler\n",
        "reduce_lr_callback = tf.keras.callbacks.ReduceLROnPlateau(\n",
        "    monitor='val_loss',\n",
        "    factor=0.1,\n",
        "    patience=2,\n",
        "    verbose=1,\n",
        "    mode='auto',\n",
        "    min_delta=0.0001,\n",
        "    cooldown=0,\n",
        "    min_lr=0)"
      ],
      "metadata": {
        "id": "qFzmnIiKu0ik"
      },
      "execution_count": null,
      "outputs": []
    },
    {
      "cell_type": "code",
      "execution_count": null,
      "metadata": {
        "id": "YZTbhD7BfNqh"
      },
      "outputs": [],
      "source": [
        "model.compile(optimizer='adam', loss='categorical_crossentropy', metrics=['accuracy'])"
      ]
    },
    {
      "cell_type": "code",
      "execution_count": null,
      "metadata": {
        "colab": {
          "base_uri": "https://localhost:8080/"
        },
        "id": "Qpki5M4odSGy",
        "outputId": "b2863a5a-c519-44e1-f2ec-6ce95b67d334"
      },
      "outputs": [
        {
          "metadata": {
            "tags": null
          },
          "name": "stdout",
          "output_type": "stream",
          "text": [
            "Epoch 1/20\n",
            "154/154 [==============================] - 1532s 10s/step - loss: 1.2212 - accuracy: 0.6213 - val_loss: 3.9418 - val_accuracy: 0.2055 - lr: 0.0010\n",
            "Epoch 2/20\n",
            "154/154 [==============================] - 1574s 10s/step - loss: 0.7908 - accuracy: 0.7304 - val_loss: 1.8095 - val_accuracy: 0.2287 - lr: 0.0010\n",
            "Epoch 3/20\n",
            "154/154 [==============================] - 1583s 10s/step - loss: 0.5952 - accuracy: 0.8019 - val_loss: 2.3221 - val_accuracy: 0.2316 - lr: 0.0010\n",
            "Epoch 4/20\n",
            "154/154 [==============================] - ETA: 0s - loss: 0.4828 - accuracy: 0.8394\n",
            "Epoch 4: ReduceLROnPlateau reducing learning rate to 0.00010000000474974513.\n",
            "154/154 [==============================] - 1528s 10s/step - loss: 0.4828 - accuracy: 0.8394 - val_loss: 2.3309 - val_accuracy: 0.2072 - lr: 0.0010\n",
            "Epoch 5/20\n",
            "154/154 [==============================] - 1583s 10s/step - loss: 0.2606 - accuracy: 0.9198 - val_loss: 0.7445 - val_accuracy: 0.7574 - lr: 1.0000e-04\n",
            "Epoch 6/20\n",
            "154/154 [==============================] - 1575s 10s/step - loss: 0.1878 - accuracy: 0.9467 - val_loss: 0.7449 - val_accuracy: 0.7595 - lr: 1.0000e-04\n",
            "Epoch 7/20\n",
            "154/154 [==============================] - ETA: 0s - loss: 0.1521 - accuracy: 0.9593\n",
            "Epoch 7: ReduceLROnPlateau reducing learning rate to 1.0000000474974514e-05.\n",
            "154/154 [==============================] - 1588s 10s/step - loss: 0.1521 - accuracy: 0.9593 - val_loss: 0.8182 - val_accuracy: 0.7322 - lr: 1.0000e-04\n",
            "Epoch 8/20\n",
            "154/154 [==============================] - 1582s 10s/step - loss: 0.1228 - accuracy: 0.9694 - val_loss: 0.7119 - val_accuracy: 0.7786 - lr: 1.0000e-05\n",
            "Epoch 9/20\n",
            "154/154 [==============================] - 1578s 10s/step - loss: 0.1192 - accuracy: 0.9698 - val_loss: 0.6912 - val_accuracy: 0.7843 - lr: 1.0000e-05\n",
            "Epoch 10/20\n",
            "154/154 [==============================] - 1577s 10s/step - loss: 0.1125 - accuracy: 0.9727 - val_loss: 0.6999 - val_accuracy: 0.7843 - lr: 1.0000e-05\n",
            "Epoch 11/20\n",
            "154/154 [==============================] - ETA: 0s - loss: 0.1079 - accuracy: 0.9724\n",
            "Epoch 11: ReduceLROnPlateau reducing learning rate to 1.0000000656873453e-06.\n",
            "154/154 [==============================] - 1577s 10s/step - loss: 0.1079 - accuracy: 0.9724 - val_loss: 0.7043 - val_accuracy: 0.7892 - lr: 1.0000e-05\n",
            "Epoch 12/20\n",
            "154/154 [==============================] - 1518s 10s/step - loss: 0.1043 - accuracy: 0.9762 - val_loss: 0.7017 - val_accuracy: 0.7855 - lr: 1.0000e-06\n",
            "Epoch 13/20\n",
            "154/154 [==============================] - ETA: 0s - loss: 0.1065 - accuracy: 0.9757\n",
            "Epoch 13: ReduceLROnPlateau reducing learning rate to 1.0000001111620805e-07.\n",
            "154/154 [==============================] - 1516s 10s/step - loss: 0.1065 - accuracy: 0.9757 - val_loss: 0.6938 - val_accuracy: 0.7818 - lr: 1.0000e-06\n",
            "Epoch 14/20\n",
            "154/154 [==============================] - 1567s 10s/step - loss: 0.1052 - accuracy: 0.9746 - val_loss: 0.6909 - val_accuracy: 0.7786 - lr: 1.0000e-07\n",
            "Epoch 15/20\n",
            "154/154 [==============================] - 1514s 10s/step - loss: 0.1072 - accuracy: 0.9737 - val_loss: 0.7072 - val_accuracy: 0.7790 - lr: 1.0000e-07\n",
            "Epoch 16/20\n",
            "154/154 [==============================] - 1571s 10s/step - loss: 0.1080 - accuracy: 0.9727 - val_loss: 0.6729 - val_accuracy: 0.7896 - lr: 1.0000e-07\n",
            "Epoch 17/20\n",
            "154/154 [==============================] - 1510s 10s/step - loss: 0.1089 - accuracy: 0.9729 - val_loss: 0.6862 - val_accuracy: 0.7912 - lr: 1.0000e-07\n",
            "Epoch 18/20\n",
            "154/154 [==============================] - ETA: 0s - loss: 0.1072 - accuracy: 0.9722\n",
            "Epoch 18: ReduceLROnPlateau reducing learning rate to 1.000000082740371e-08.\n",
            "154/154 [==============================] - 1562s 10s/step - loss: 0.1072 - accuracy: 0.9722 - val_loss: 0.7049 - val_accuracy: 0.7823 - lr: 1.0000e-07\n",
            "Epoch 19/20\n",
            "154/154 [==============================] - 1567s 10s/step - loss: 0.1066 - accuracy: 0.9741 - val_loss: 0.6983 - val_accuracy: 0.7827 - lr: 1.0000e-08\n",
            "Epoch 20/20\n",
            "154/154 [==============================] - ETA: 0s - loss: 0.1032 - accuracy: 0.9761"
          ]
        }
      ],
      "source": [
        "# train model on train_data for 20 epochs\n",
        "history = model.fit(train_data, epochs=20, validation_data=val_data, callbacks=[reduce_lr_callback])"
      ]
    },
    {
      "cell_type": "code",
      "execution_count": null,
      "metadata": {
        "id": "3Ix0s5acdj-d"
      },
      "outputs": [],
      "source": [
        "# already saved!\n",
        "# model.save('/content/drive/MyDrive/CS6476/training_1/patt-lite-retrained.keras')"
      ]
    },
    {
      "cell_type": "code",
      "source": [
        "model = keras.models.load_model('/content/drive/MyDrive/CS6476/training_1/patt-lite-retrained.keras')"
      ],
      "metadata": {
        "id": "59vxs3_n3xLT"
      },
      "execution_count": null,
      "outputs": []
    },
    {
      "cell_type": "code",
      "source": [
        "# test accuracy on test_data\n",
        "test_loss, test_acc = model.evaluate(test_data)\n",
        "print('Test accuracy:', test_acc)"
      ],
      "metadata": {
        "colab": {
          "base_uri": "https://localhost:8080/"
        },
        "id": "Ga19sGLJ34zn",
        "outputId": "5751ea3b-aecb-4498-94f3-b12cc3abbad2"
      },
      "execution_count": null,
      "outputs": [
        {
          "output_type": "stream",
          "name": "stdout",
          "text": [
            "48/48 [==============================] - 1092s 23s/step - loss: 0.1433 - accuracy: 0.9658\n",
            "Test accuracy: 0.965775728225708\n"
          ]
        }
      ]
    },
    {
      "cell_type": "markdown",
      "source": [
        "Inference Time"
      ],
      "metadata": {
        "id": "-avMVR88LgiA"
      }
    },
    {
      "cell_type": "code",
      "source": [
        "batch_size = 64"
      ],
      "metadata": {
        "id": "cHXIHIUjLKG7"
      },
      "execution_count": null,
      "outputs": []
    },
    {
      "cell_type": "code",
      "source": [
        "# test inference time\n",
        "import time\n",
        "start = time.time()\n",
        "model.predict(test_data)\n",
        "end = time.time()\n",
        "print('Average inference time:', (end - start)/(len(test_data)*batch_size))"
      ],
      "metadata": {
        "colab": {
          "base_uri": "https://localhost:8080/"
        },
        "id": "t6QOdv3iK779",
        "outputId": "0411cce9-847e-4f09-9989-2b95ed00a470"
      },
      "execution_count": null,
      "outputs": [
        {
          "output_type": "stream",
          "name": "stdout",
          "text": [
            "48/48 [==============================] - 127s 3s/step\n",
            "Average inference time: 0.04632780266304811\n"
          ]
        }
      ]
    },
    {
      "cell_type": "code",
      "source": [
        "baseline_model = keras.models.load_model(('/content/drive/MyDrive/CS6476/training_1/MobileNet-epoch20-batch64.keras'))"
      ],
      "metadata": {
        "id": "_UHhZEdeLotz"
      },
      "execution_count": null,
      "outputs": []
    },
    {
      "cell_type": "code",
      "source": [
        "start = time.time()\n",
        "baseline_model.predict(test_data)\n",
        "end = time.time()\n",
        "print('Average inference time:', (end - start)/(len(test_data)*batch_size))"
      ],
      "metadata": {
        "colab": {
          "base_uri": "https://localhost:8080/"
        },
        "id": "wjqr9RE3MAGp",
        "outputId": "e927a645-de4a-44a9-86df-1a76a76307a8"
      },
      "execution_count": null,
      "outputs": [
        {
          "output_type": "stream",
          "name": "stdout",
          "text": [
            "48/48 [==============================] - 138s 3s/step\n",
            "Average inference time: 0.044951815934230886\n"
          ]
        }
      ]
    },
    {
      "cell_type": "code",
      "source": [],
      "metadata": {
        "id": "mQy80beoM8ka"
      },
      "execution_count": null,
      "outputs": []
    },
    {
      "cell_type": "markdown",
      "source": [
        "Accuracy & Loss"
      ],
      "metadata": {
        "id": "W8L9G4S2L4hJ"
      }
    },
    {
      "cell_type": "code",
      "source": [
        "# extract training and validation accuracy from history\n",
        "train_acc = history.history['accuracy']\n",
        "val_acc = history.history['val_accuracy']\n",
        "# extract training and validation loss from history\n",
        "train_loss = history.history['loss']\n",
        "val_loss = history.history['val_loss']"
      ],
      "metadata": {
        "id": "d8r_4YKm4Ago"
      },
      "execution_count": null,
      "outputs": []
    },
    {
      "cell_type": "code",
      "source": [
        "# plot training and accuracy validation\n",
        "plt.plot(train_acc, label='Training Accuracy')\n",
        "plt.plot(val_acc, label='Validation Accuracy')\n",
        "plt.title('PAtt-Lite: Training and Validation Accuracy')\n",
        "plt.legend()\n",
        "plt.show()"
      ],
      "metadata": {
        "colab": {
          "base_uri": "https://localhost:8080/",
          "height": 452
        },
        "id": "Q4E5y_qe8Su7",
        "outputId": "1dd0835f-7ff7-478a-c5ab-91d28ebf5631"
      },
      "execution_count": null,
      "outputs": [
        {
          "output_type": "display_data",
          "data": {
            "text/plain": [
              "<Figure size 640x480 with 1 Axes>"
            ],
            "image/png": "[encoded data removed]"
          },
          "metadata": {}
        }
      ]
    },
    {
      "cell_type": "code",
      "source": [
        "# plot training and validation losses\n",
        "plt.plot(train_loss, label='Training Loss')\n",
        "plt.plot(val_loss, label='Validation Loss')\n",
        "plt.title('PAtt-Lite: Training and Validation Loss')\n",
        "plt.legend()\n",
        "plt.show()"
      ],
      "metadata": {
        "colab": {
          "base_uri": "https://localhost:8080/",
          "height": 452
        },
        "id": "q-BS9A_q8V_h",
        "outputId": "3ce8b09d-5ebf-4af0-a728-11003c86ff42"
      },
      "execution_count": null,
      "outputs": [
        {
          "output_type": "display_data",
          "data": {
            "text/plain": [
              "<Figure size 640x480 with 1 Axes>"
            ],
            "image/png": "[encoded data removed]"
          },
          "metadata": {}
        }
      ]
    },
    {
      "cell_type": "code",
      "source": [],
      "metadata": {
        "id": "vfqL0T1cHzUi"
      },
      "execution_count": null,
      "outputs": []
    }
  ],
  "metadata": {
    "colab": {
      "provenance": []
    },
    "kernelspec": {
      "display_name": "Python 3",
      "name": "python3"
    },
    "language_info": {
      "name": "python"
    }
  },
  "nbformat": 4,
  "nbformat_minor": 0
}